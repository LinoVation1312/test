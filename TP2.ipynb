{
  "cells": [
    {
      "cell_type": "markdown",
      "metadata": {
        "id": "view-in-github",
        "colab_type": "text"
      },
      "source": [
        "<a href=\"https://colab.research.google.com/github/LinoVation1312/test/blob/main/TP2.ipynb\" target=\"_parent\"><img src=\"https://colab.research.google.com/assets/colab-badge.svg\" alt=\"Open In Colab\"/></a>"
      ]
    },
    {
      "cell_type": "markdown",
      "id": "7e0697b3",
      "metadata": {
        "id": "7e0697b3"
      },
      "source": [
        "<img style=\"text-align: center\" src='https://ensim.univ-lemans.fr/skins/ensim/resources/um_img/menu-gauche/lemans-universite-large.png' width=\"300\" height=\"80\">\n",
        "<br>\n",
        "<div style=\"margin-bottom:40px\">\n",
        "    <h1 style=\"text-align: center; color:#00B0F0; font-family:Sylfaen; font-size:32px;\">IA pour le traitement du signal</h1>\n",
        "</div>\n",
        "<div style=\"margin-bottom:40px\">\n",
        "    <h1 style=\"text-align: center; color:#00B0F0; font-family:Sylfaen; font-size:32px;\">TP2 - Classification des genres musicaux</h1>\n",
        "</div>"
      ]
    },
    {
      "cell_type": "markdown",
      "source": [],
      "metadata": {
        "id": "nUb7DVyY3C0Z"
      },
      "id": "nUb7DVyY3C0Z"
    },
    {
      "cell_type": "code",
      "execution_count": 1,
      "id": "d2446e45",
      "metadata": {
        "id": "d2446e45"
      },
      "outputs": [],
      "source": [
        "import numpy as np\n",
        "import pandas as pd\n",
        "\n",
        "import zipfile\n",
        "\n",
        "import matplotlib.pyplot as plt\n",
        "import seaborn as sns\n",
        "sns.set_style('whitegrid')\n",
        "#%matplotlib inline\n",
        "\n",
        "import warnings\n",
        "warnings.filterwarnings('ignore')\n",
        "\n",
        "import sklearn\n",
        "\n",
        "import sklearn.model_selection as skms\n",
        "import sklearn.preprocessing as skp\n",
        "\n",
        "import librosa\n",
        "import librosa.display as lplt\n",
        "\n",
        "import IPython\n",
        "\n",
        "import tensorflow as tf\n",
        "import tensorflow.keras as k\n",
        "\n",
        "seed = 42\n",
        "np.random.seed(seed)\n",
        "tf.random.set_seed(seed)"
      ]
    },
    {
      "cell_type": "markdown",
      "id": "accd8820",
      "metadata": {
        "id": "accd8820"
      },
      "source": [
        "**Q1- Qu'est-ce que la librosa ? quelles sont ses fonctionnalités principales ?**"
      ]
    },
    {
      "cell_type": "markdown",
      "id": "8d8cf643",
      "metadata": {
        "id": "8d8cf643"
      },
      "source": [
        "# Le jeu de données"
      ]
    },
    {
      "cell_type": "markdown",
      "id": "c5af6692",
      "metadata": {
        "id": "c5af6692"
      },
      "source": [
        "## Content\n",
        "* genres original - Une collection de 10 genres avec 100 fichiers audio chacun, tous d'une durée de 30 secondes\n",
        "* images original - Une représentation visuelle pour chaque fichier audio. Une façon de classifier les données consiste à utiliser les réseaux de neurones qui prennent généralement une sorte de représentation d'image, les fichiers audio ont été convertis en spectrogrammes Mel pour rendre cela possible.\n",
        "* 2 fichiers CSV - Contenant les caractéristiques des fichiers audio. Le ficheir `features_30_sec` contient une moyenne et une variance calculées sur plusieurs caractéristiques qui sont extraites du fichier audio de chaque chanson (d'une durée de 30 secondes). L'autre fichier, `features_3_sec`, a la même structure, mais les chansons étaient auparavant divisées en fichiers audio de 3 secondes (ce qui augmente de 10 fois la quantité de données que nous alimentons dans nos modèles de classification). Avec les données, plus c'est toujours mieux."
      ]
    },
    {
      "cell_type": "markdown",
      "id": "d8fa6005",
      "metadata": {
        "id": "d8fa6005"
      },
      "source": [
        "## Téléchargement du jeu de données\n",
        "Les données sont stockées dans un fichier zip (`Data.zip`) disponible sur le lien suivant\n",
        "\n",
        "https://umbox.univ-lemans.fr/index.php/s/L3F4q472mQiy3R6\n",
        "\n",
        "Il faut télécharger ce fichier et le placer dans le même dossier que votre notebook"
      ]
    },
    {
      "cell_type": "markdown",
      "id": "8ded062f",
      "metadata": {
        "id": "8ded062f"
      },
      "source": [
        "**Q2-** Décompresser le fichier `Data.zip` dans un dossier à nommer `Data` en utilisant le module `zipfile`"
      ]
    },
    {
      "cell_type": "code",
      "execution_count": null,
      "id": "93160fe3",
      "metadata": {
        "id": "93160fe3"
      },
      "outputs": [],
      "source": [
        "# Veuillez ajouter le code pour répondre à la question précédente"
      ]
    },
    {
      "cell_type": "markdown",
      "id": "a64fe69d",
      "metadata": {
        "id": "a64fe69d"
      },
      "source": [
        "## Découvrir les données\n",
        "\n",
        "**Q3-** Afficher les premières lignes du fichier `features_3_sec.csv` en utilisant le module `panda`"
      ]
    },
    {
      "cell_type": "code",
      "execution_count": null,
      "id": "2f7dacc3",
      "metadata": {
        "id": "2f7dacc3"
      },
      "outputs": [],
      "source": [
        "# Veuillez ajouter le code pour répondre à la question précédente"
      ]
    },
    {
      "cell_type": "markdown",
      "id": "c04b8001",
      "metadata": {
        "id": "c04b8001"
      },
      "source": [
        "**Q4-** Expliquer comment fonctionne le code ci-dessous? et quel est objectif? Commenter le résultat de l'exécution.  "
      ]
    },
    {
      "cell_type": "code",
      "execution_count": null,
      "id": "373d0bbe",
      "metadata": {
        "id": "373d0bbe"
      },
      "outputs": [],
      "source": [
        "print(\"Le jeu de données est composé de \",df.shape)\n",
        "df.label.value_counts().reset_index()"
      ]
    },
    {
      "cell_type": "markdown",
      "id": "70931115",
      "metadata": {
        "id": "70931115"
      },
      "source": [
        "**Q5-** Ouvrir le ficheir `jazz.00000.wav` en utilisant le module `librosa`"
      ]
    },
    {
      "cell_type": "code",
      "execution_count": null,
      "id": "898fd4c7",
      "metadata": {
        "id": "898fd4c7"
      },
      "outputs": [],
      "source": [
        "# Veuillez ajouter le code pour répondre à la question précédente"
      ]
    },
    {
      "cell_type": "markdown",
      "id": "0ac53f86",
      "metadata": {
        "id": "0ac53f86"
      },
      "source": [
        "**Q6-** Créer un lecteur de musique pour jouer la chanson `jazz.00000.wav` en utilisant l’interface `dipslay` du module `IPython`"
      ]
    },
    {
      "cell_type": "code",
      "execution_count": null,
      "id": "b71763fd",
      "metadata": {
        "id": "b71763fd"
      },
      "outputs": [],
      "source": [
        "# Veuillez ajouter le code pour répondre à la question précédente"
      ]
    },
    {
      "cell_type": "markdown",
      "id": "83c766df",
      "metadata": {
        "id": "83c766df"
      },
      "source": [
        "## Exemples d’extraction des caractéristiques"
      ]
    },
    {
      "cell_type": "markdown",
      "id": "6b6c4e11",
      "metadata": {
        "id": "6b6c4e11"
      },
      "source": [
        "**Q7-** Afficher le signal audio en utilisant `waveshow` du module `librosa`"
      ]
    },
    {
      "cell_type": "code",
      "execution_count": null,
      "id": "c1d9eb20",
      "metadata": {
        "scrolled": true,
        "id": "c1d9eb20"
      },
      "outputs": [],
      "source": [
        "# Veuillez ajouter le code pour répondre à la question précédente"
      ]
    },
    {
      "cell_type": "markdown",
      "id": "d9fed591",
      "metadata": {
        "id": "d9fed591"
      },
      "source": [
        "**Transformée de Fourier à court terme (STFT)**\n",
        "\n",
        "**Q8-** Donner la définition de la transformée de Fourier à court terme et expliquer ses avantages\n",
        "\n",
        "**Q9-** Calculer la STFT du signal audio en utilisant la fonction `stft` du module `librosa` (n_fft = 2048, hop_length = 512)"
      ]
    },
    {
      "cell_type": "code",
      "execution_count": null,
      "id": "9ed35f7d",
      "metadata": {
        "id": "9ed35f7d"
      },
      "outputs": [],
      "source": [
        "# Veuillez ajouter le code pour répondre à la question précédente"
      ]
    },
    {
      "cell_type": "markdown",
      "id": "7493fa66",
      "metadata": {
        "id": "7493fa66"
      },
      "source": [
        "**Q10-** Afficher la STFT en utilisant la fonction `specshow` du module `librosa`"
      ]
    },
    {
      "cell_type": "code",
      "execution_count": null,
      "id": "362506b6",
      "metadata": {
        "id": "362506b6"
      },
      "outputs": [],
      "source": [
        "# Veuillez ajouter le code pour répondre à la question précédente"
      ]
    },
    {
      "cell_type": "markdown",
      "id": "287773f6",
      "metadata": {
        "id": "287773f6"
      },
      "source": [
        "**Q11-** Convertir un spectrogramme en spectrogramme à l'échelle dB en appliquant la fonction `amplitude_to_db` du module `librosa` sur la STFT"
      ]
    },
    {
      "cell_type": "code",
      "execution_count": null,
      "id": "9192f1b9",
      "metadata": {
        "id": "9192f1b9"
      },
      "outputs": [],
      "source": [
        "# Veuillez ajouter le code pour répondre à la question précédente"
      ]
    },
    {
      "cell_type": "markdown",
      "id": "846cf983",
      "metadata": {
        "id": "846cf983"
      },
      "source": [
        "**Q12-** Afficher la STFT exprimée en dB et commenter le résultat."
      ]
    },
    {
      "cell_type": "code",
      "execution_count": null,
      "id": "12ad6031",
      "metadata": {
        "id": "12ad6031"
      },
      "outputs": [],
      "source": [
        "# Veuillez ajouter le code pour répondre à la question précédente"
      ]
    },
    {
      "cell_type": "markdown",
      "id": "4967f34d",
      "metadata": {
        "id": "4967f34d"
      },
      "source": [
        "**Le nombre de passages par zéro**\n",
        "\n",
        "**Q13-** Afficher le signal audio entre les échantillonnes 1000 et 1200"
      ]
    },
    {
      "cell_type": "code",
      "execution_count": null,
      "id": "738e3326",
      "metadata": {
        "id": "738e3326"
      },
      "outputs": [],
      "source": [
        "# Veuillez ajouter le code pour répondre à la question précédente"
      ]
    },
    {
      "cell_type": "markdown",
      "id": "57a3bcfa",
      "metadata": {
        "id": "57a3bcfa"
      },
      "source": [
        "**Q14-** Calculer le nombre de passages par zéro entre les échantillonnes 1000 et 1200 en utilisant la fonction ` zero_crossings` du module `librosa`"
      ]
    },
    {
      "cell_type": "code",
      "execution_count": null,
      "id": "7cf68765",
      "metadata": {
        "id": "7cf68765"
      },
      "outputs": [],
      "source": [
        "# Veuillez ajouter le code pour répondre à la question précédente"
      ]
    },
    {
      "cell_type": "markdown",
      "id": "2bc676da",
      "metadata": {
        "id": "2bc676da"
      },
      "source": [
        "**Spectrogramme Mel**\n",
        "\n",
        "**Q15-** Donner la définition du spectrogramme Mel et expliquer ses avantages\n",
        "\n",
        "**Q16-** Calculer en le spectrogramme Mel du signal audio en utilisant les fonctions `melspectrogram` et `amplitude_to_db` du module `librosa`."
      ]
    },
    {
      "cell_type": "code",
      "execution_count": null,
      "id": "4cac1273",
      "metadata": {
        "id": "4cac1273"
      },
      "outputs": [],
      "source": [
        "# Veuillez ajouter le code pour répondre à la question précédente"
      ]
    },
    {
      "cell_type": "markdown",
      "id": "abf24492",
      "metadata": {
        "id": "abf24492"
      },
      "source": [
        "**Q17-** Afficher le spectrogramme Mel exprimé en dB et commenter le résultat."
      ]
    },
    {
      "cell_type": "code",
      "execution_count": null,
      "id": "25348365",
      "metadata": {
        "id": "25348365"
      },
      "outputs": [],
      "source": [
        "# Veuillez ajouter le code pour répondre à la question précédente"
      ]
    },
    {
      "cell_type": "markdown",
      "id": "1ec08e98",
      "metadata": {
        "id": "1ec08e98"
      },
      "source": [
        "**Chroma**\n",
        "\n",
        "**Q18-** Donner la définition du chroma et expliquer ses avantages\n",
        "\n",
        "**Q19-** Calculer en le chroma du signal audio en utilisant la fonction `chroma_stft` du module `librosa`."
      ]
    },
    {
      "cell_type": "code",
      "execution_count": null,
      "id": "206831a5",
      "metadata": {
        "id": "206831a5"
      },
      "outputs": [],
      "source": [
        "# Veuillez ajouter le code pour répondre à la question précédente"
      ]
    },
    {
      "cell_type": "markdown",
      "id": "0e509252",
      "metadata": {
        "id": "0e509252"
      },
      "source": [
        "**Q20-** Afficher le chroma en utilisant la fonction `specshow` du module `librosa`"
      ]
    },
    {
      "cell_type": "code",
      "execution_count": null,
      "id": "bbd654e7",
      "metadata": {
        "id": "bbd654e7"
      },
      "outputs": [],
      "source": [
        "# Veuillez ajouter le code pour répondre à la question précédente"
      ]
    },
    {
      "cell_type": "markdown",
      "id": "e6edc0ce",
      "metadata": {
        "id": "e6edc0ce"
      },
      "source": [
        "**Centroïde spectral (Spectral Centroid)**\n",
        "\n",
        "**Q21-** Donner la définition du centroïde spectral et expliquer ses avantages\n",
        ""
      ]
    },
    {
      "cell_type": "code",
      "execution_count": null,
      "id": "1be777ea",
      "metadata": {
        "id": "1be777ea"
      },
      "outputs": [],
      "source": [
        "spectral_centroids = librosa.feature.spectral_centroid(audio_data, sr=sr)[0]\n",
        "spectral_centroids.shape\n",
        "(775,)\n",
        "# Computing the time variable for visualization\n",
        "frames = range(len(spectral_centroids))\n",
        "t = librosa.frames_to_time(frames)\n",
        "# Normalising the spectral centroid for visualisation\n",
        "def normalize(audio_data, axis=0):\n",
        "    return sklearn.preprocessing.minmax_scale(audio_data, axis=axis)\n",
        "#Plotting the Spectral Centroid along the waveform\n",
        "librosa.display.waveshow(audio_data, sr=sr, alpha=0.4)\n",
        "plt.plot(t, normalize(spectral_centroids), color='r')"
      ]
    },
    {
      "cell_type": "markdown",
      "id": "2f04e47c",
      "metadata": {
        "id": "2f04e47c"
      },
      "source": [
        "**Q22-** Interpréter le résultats de l'exécution"
      ]
    },
    {
      "cell_type": "markdown",
      "id": "bbeb69fe",
      "metadata": {
        "id": "bbeb69fe"
      },
      "source": [
        "## Préparation des données"
      ]
    },
    {
      "cell_type": "code",
      "execution_count": null,
      "id": "c6717203",
      "metadata": {
        "id": "c6717203"
      },
      "outputs": [],
      "source": [
        "label_index = dict()\n",
        "index_label = dict()\n",
        "for i, x in enumerate(df.label.unique()):\n",
        "    label_index[x] = i\n",
        "    index_label[i] = x\n",
        "print(label_index)\n",
        "print(index_label)"
      ]
    },
    {
      "cell_type": "code",
      "execution_count": null,
      "id": "b23efe53",
      "metadata": {
        "id": "b23efe53"
      },
      "outputs": [],
      "source": [
        "df.label = [label_index[l] for l in df.label]"
      ]
    },
    {
      "cell_type": "code",
      "execution_count": null,
      "id": "3e34fee2",
      "metadata": {
        "id": "3e34fee2"
      },
      "outputs": [],
      "source": [
        "df_shuffle = df.sample(frac=1, random_state=seed).reset_index(drop=True)"
      ]
    },
    {
      "cell_type": "code",
      "execution_count": null,
      "id": "8fb95d8c",
      "metadata": {
        "id": "8fb95d8c"
      },
      "outputs": [],
      "source": [
        "df_shuffle.drop(['filename', 'length'], axis=1, inplace=True)\n",
        "df_y = df_shuffle.pop('label')\n",
        "df_X = df_shuffle"
      ]
    },
    {
      "cell_type": "code",
      "execution_count": null,
      "id": "cbca1317",
      "metadata": {
        "id": "cbca1317"
      },
      "outputs": [],
      "source": [
        "X_train, df_test_valid_X, y_train, df_test_valid_y = skms.train_test_split(df_X, df_y, train_size=0.7, random_state=seed, stratify=df_y)\n",
        "X_valid, X_test, y_valid, y_test = skms.train_test_split(df_test_valid_X, df_test_valid_y, train_size=0.66, random_state=seed, stratify=df_test_valid_y)"
      ]
    },
    {
      "cell_type": "code",
      "execution_count": null,
      "id": "9b60c8f3",
      "metadata": {
        "id": "9b60c8f3"
      },
      "outputs": [],
      "source": [
        "print(f\"Train set has {X_train.shape[0]} records out of {len(df_shuffle)} which is {round(X_train.shape[0]/len(df_shuffle)*100)}%\")\n",
        "print(f\"Dev set has {X_valid.shape[0]} records out of {len(df_shuffle)} which is {round(X_valid.shape[0]/len(df_shuffle)*100)}%\")\n",
        "print(f\"Test set has {X_test.shape[0]} records out of {len(df_shuffle)} which is {round(X_test.shape[0]/len(df_shuffle)*100)}%\")"
      ]
    },
    {
      "cell_type": "code",
      "execution_count": null,
      "id": "61cc3017",
      "metadata": {
        "id": "61cc3017"
      },
      "outputs": [],
      "source": [
        "scaler = skp.StandardScaler()\n",
        "X_train = pd.DataFrame(scaler.fit_transform(X_train), columns=X_train.columns)\n",
        "X_valid = pd.DataFrame(scaler.transform(X_valid), columns=X_train.columns)\n",
        "X_test = pd.DataFrame(scaler.transform(X_test), columns=X_train.columns)"
      ]
    },
    {
      "cell_type": "markdown",
      "id": "953e691a",
      "metadata": {
        "id": "953e691a"
      },
      "source": [
        "**Q23- Commenter les différentes étapes présentées ci-dessous dans l’objectif de préparer les données pour l’apprentissage.**"
      ]
    },
    {
      "cell_type": "markdown",
      "id": "772091d8",
      "metadata": {
        "id": "772091d8"
      },
      "source": [
        "# Entraîner et évaluer le modèle"
      ]
    },
    {
      "cell_type": "code",
      "execution_count": null,
      "id": "0c4eeb63",
      "metadata": {
        "id": "0c4eeb63"
      },
      "outputs": [],
      "source": [
        "input_shape=(X_train.shape[1],)\n",
        "batch_size = 128\n",
        "epochs = 20\n",
        "\n",
        "model = k.models.Sequential()\n",
        "model.add(k.Input(shape=input_shape))\n",
        "model.add(k.layers.Dense(64, activation=\"sigmoid\"))\n",
        "model.add(k.layers.Dense(10, activation=\"softmax\"))\n",
        "\n",
        "model.compile(optimizer=k.optimizers.Adam(),\n",
        "              loss='sparse_categorical_crossentropy',\n",
        "              metrics='accuracy'\n",
        "             )\n",
        "history = model.fit(X_train, y_train, validation_data=(X_valid, y_valid), epochs=epochs, batch_size=batch_size)"
      ]
    },
    {
      "cell_type": "markdown",
      "id": "5af6498b",
      "metadata": {
        "id": "5af6498b"
      },
      "source": [
        " **Evaluer la performance de votre modèle**"
      ]
    },
    {
      "cell_type": "code",
      "execution_count": null,
      "id": "7b18cfbe",
      "metadata": {
        "id": "7b18cfbe"
      },
      "outputs": [],
      "source": [
        "test_loss, test_acc  = model.evaluate(X_test, y_test)\n",
        "print(\"\\nLa perte pour les données de test est :\",test_loss)\n",
        "print(\"Le taux d’exactitude (Accuracy) sur les données de test est :\",test_acc*100)"
      ]
    },
    {
      "cell_type": "markdown",
      "id": "16660b36",
      "metadata": {
        "id": "16660b36"
      },
      "source": [
        "# Travail à faire"
      ]
    },
    {
      "cell_type": "markdown",
      "id": "c4212fd8",
      "metadata": {
        "id": "c4212fd8"
      },
      "source": [
        "**Les objectifs sont**\n",
        "\n",
        "1. Répondre aux questions de Q1 à Q23 (voir ci-dessus)\n",
        "2. Trouver votre meilleur modèle pour classifier les fichiers correspondant aux genres musicaux.\n"
      ]
    },
    {
      "cell_type": "markdown",
      "id": "db498432",
      "metadata": {
        "id": "db498432"
      },
      "source": [
        "**Les livrables (à déposer sur UMTICE)**\n",
        "\n",
        "1. Un rapport pour  \n",
        "* présenter les réponses aux questions de Q1 à Q23, et\n",
        "* expliquer toute la conception expérimentale et les résultats du travail que vous avez effectué afin de trouver votre meilleur modèle. Le rapport doit couvrir vos architectures et hyperparamètres proposés et testés, les résultats correspondants présentés sous forme des tableaux et figures.\n",
        "2. Le notebook incluant le code correspondant aux questions Q1 à Q23 en addition de votre meilleur modèle\n",
        "3. Votre meilleur modèle stocké sous le format `keras`"
      ]
    },
    {
      "cell_type": "markdown",
      "id": "6d45533d",
      "metadata": {
        "id": "6d45533d"
      },
      "source": [
        "**Grille d'évaluation**\n",
        "\n",
        "Vous pouvez trouver une liste de suggestions d’étapes que vous pouvez suivre pour trouver votre meilleur modèle. Ceci n’est qu’une proposition, et vous pouvez certainement faire plus que cela et aller au-delà de cette liste.\n",
        "\n",
        "* Optimiser de l'architecture de votre réseau de neurones (préciser pour chaque modèle le nombre de paramètres pouvant être entraînés)\n",
        "* Tester différentes méthodes d’optimisation\n",
        "* Optimiser le taux d’apprentissage  \n",
        "* Etudier l'impact des différents nombres d'époques et de de la taille des mini-lots\n",
        "* Tracer et analyser de la courbe d'apprentissage\n",
        "* Concevoir une méthodologie d'expérimentation (comment trouver le meilleur modèle ?)\n",
        "* Analyser les résultats pour diagnostiquer les problèmes et améliorer les résultats\n",
        "* Exploiter différentes métriques d’évaluation de performance\n",
        "* Implémenter d'autres architectures de réseaux de neurones profondes\n",
        "* Implémentation d'un modèle/architecture pré-entraîné (apprentissage par transfert)\n",
        "* Exploiter d’autres types de caractéristiques de votre choix (les spectrogrammes Mel et non seulement leurs statistiques par exemple, ces dernières sont déjà calculées et stockées dans le dossier `images_original`)"
      ]
    }
  ],
  "metadata": {
    "kernelspec": {
      "display_name": "Python 3 (ipykernel)",
      "language": "python",
      "name": "python3"
    },
    "language_info": {
      "codemirror_mode": {
        "name": "ipython",
        "version": 3
      },
      "file_extension": ".py",
      "mimetype": "text/x-python",
      "name": "python",
      "nbconvert_exporter": "python",
      "pygments_lexer": "ipython3",
      "version": "3.9.7"
    },
    "colab": {
      "provenance": [],
      "include_colab_link": true
    }
  },
  "nbformat": 4,
  "nbformat_minor": 5
}